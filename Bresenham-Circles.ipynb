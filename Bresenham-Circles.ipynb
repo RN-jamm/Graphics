{
 "cells": [
  {
   "cell_type": "code",
   "execution_count": 3,
   "id": "9593a4df",
   "metadata": {},
   "outputs": [],
   "source": [
    "import numpy as np\n",
    "import matplotlib.pyplot as plt"
   ]
  },
  {
   "cell_type": "code",
   "execution_count": 4,
   "id": "69b84620",
   "metadata": {},
   "outputs": [],
   "source": [
    "def circleB(xc, yc, r):\n",
    "    RGB = np.zeros((200, 200, 3), dtype = np.uint8)\n",
    "    RGB.fill(255)\n",
    "    d = 3-2*r\n",
    "    y=r\n",
    "    i=0\n",
    "    while i<=y:\n",
    "        y1 = min(yc + y, 200)\n",
    "        y2 = max(yc - y, 0)\n",
    "        y3 = min(yc + i, 200)\n",
    "        y4 = max(yc - i, 0)\n",
    "        \n",
    "        x1 = min(xc + i, 200)\n",
    "        x2 = max(xc - i, 0)\n",
    "        x3 = max(xc - y, 0)\n",
    "        x4 = min(xc + y, 200)\n",
    "        \n",
    "        RGB[y1, x1] = 0.0\n",
    "        RGB[y2, x1] = 0.0\n",
    "        RGB[y1, x2] = 0.0\n",
    "        RGB[y2, x2] = 0.0\n",
    "        RGB[y3, x3] = 0.0\n",
    "        RGB[y4, x3] = 0.0\n",
    "        RGB[y3, x4] = 0.0\n",
    "        RGB[y4, x4] = 0.0\n",
    "        \n",
    "        i+= 1\n",
    "        if (d<=0):\n",
    "            d+= i*4+6\n",
    "        else:\n",
    "            d+= 4*(i-y)+10\n",
    "            y-=1\n",
    "    return RGB"
   ]
  },
  {
   "cell_type": "code",
   "execution_count": 5,
   "id": "e798db49",
   "metadata": {},
   "outputs": [
    {
     "data": {
      "image/png": "[encoded data removed]",
      "text/plain": [
       "<Figure size 432x288 with 1 Axes>"
      ]
     },
     "metadata": {
      "needs_background": "light"
     },
     "output_type": "display_data"
    }
   ],
   "source": [
    "data = circleB(50, 120, 70)\n",
    "plt.imshow(data, interpolation='none', aspect=1)\n",
    "plt.show()"
   ]
  },
  {
   "cell_type": "code",
   "execution_count": null,
   "id": "29b7cf07",
   "metadata": {},
   "outputs": [],
   "source": []
  }
 ],
 "metadata": {
  "kernelspec": {
   "display_name": "Python 3 (ipykernel)",
   "language": "python",
   "name": "python3"
  },
  "language_info": {
   "codemirror_mode": {
    "name": "ipython",
    "version": 3
   },
   "file_extension": ".py",
   "mimetype": "text/x-python",
   "name": "python",
   "nbconvert_exporter": "python",
   "pygments_lexer": "ipython3",
   "version": "3.9.5"
  }
 },
 "nbformat": 4,
 "nbformat_minor": 5
}
