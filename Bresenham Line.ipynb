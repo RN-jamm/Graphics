{
 "cells": [
  {
   "cell_type": "code",
   "execution_count": 1,
   "id": "063aca93",
   "metadata": {},
   "outputs": [],
   "source": [
    "import numpy as np\n",
    "import matplotlib.pyplot as plt\n",
    "from time import time"
   ]
  },
  {
   "cell_type": "code",
   "execution_count": 2,
   "id": "b55e5bcd",
   "metadata": {},
   "outputs": [],
   "source": [
    "def liniaB(x0, y0, xk, yk):\n",
    "    data=np.zeros((100,100,3), dtype=np.uint8)\n",
    "    data.fill(255)\n",
    "    \n",
    "    \n",
    "    dx = xk-x0\n",
    "    dy = yk-y0\n",
    "    err = 0.0\n",
    "\n",
    "    \n",
    "    if (abs(dx) > abs(dy)):\n",
    "        if(xk<x0):\n",
    "            x0, xk = xk, x0\n",
    "            y0, yk = yk, y0\n",
    "            dx = xk-x0\n",
    "            dy = yk-y0\n",
    "        y=y0\n",
    "        derr=abs(dy/dx)\n",
    "        a= np.sign(dy)\n",
    "        for x in range(x0, xk):\n",
    "            data[y, x] = 0.0\n",
    "        \n",
    "            err += derr\n",
    "        \n",
    "        \n",
    "            if (err > 0.5):\n",
    "                y += a\n",
    "                err += -1\n",
    "                \n",
    "    else:\n",
    "        if(yk<y0):\n",
    "            y0, yk = yk, y0\n",
    "            x0, xk = xk, x0\n",
    "            dx = xk-x0\n",
    "            dy = yk-y0\n",
    "        x=x0\n",
    "        derr=abs(dy/dx)\n",
    "        a = np.sign(dx)\n",
    "        for y in range(y0, yk):\n",
    "            data[y, x] = 0.0\n",
    "            err += derr\n",
    "            \n",
    "            if (err>0.5):\n",
    "                x += a\n",
    "                err += -1\n",
    "    \n",
    "\n",
    "    #plt.imshow(data, interpolation='none', aspect=1)\n",
    "    #plt.show()\n",
    "    \n",
    "    return data"
   ]
  },
  {
   "cell_type": "code",
   "execution_count": 3,
   "id": "2e955f44",
   "metadata": {},
   "outputs": [
    {
     "data": {
      "image/png": "[encoded data removed]",
      "text/plain": [
       "<Figure size 432x288 with 1 Axes>"
      ]
     },
     "metadata": {
      "needs_background": "light"
     },
     "output_type": "display_data"
    }
   ],
   "source": [
    "data = liniaB(10, 70, 70, 40)\n",
    "plt.imshow(data, interpolation='none', aspect=1)\n",
    "plt.show()"
   ]
  },
  {
   "cell_type": "code",
   "execution_count": 4,
   "id": "7c7e1a0a",
   "metadata": {},
   "outputs": [
    {
     "data": {
      "image/png": "[encoded data removed]",
      "text/plain": [
       "<Figure size 432x288 with 1 Axes>"
      ]
     },
     "metadata": {
      "needs_background": "light"
     },
     "output_type": "display_data"
    }
   ],
   "source": [
    "data = liniaB(70, 40, 10, 70)\n",
    "plt.imshow(data, interpolation='none', aspect=1)\n",
    "plt.show()"
   ]
  },
  {
   "cell_type": "code",
   "execution_count": 5,
   "id": "ee85ec0e",
   "metadata": {},
   "outputs": [
    {
     "data": {
      "image/png": "[encoded data removed]",
      "text/plain": [
       "<Figure size 432x288 with 1 Axes>"
      ]
     },
     "metadata": {
      "needs_background": "light"
     },
     "output_type": "display_data"
    }
   ],
   "source": [
    "data = liniaB(70,10,40,70)\n",
    "plt.imshow(data, interpolation='none', aspect=1)\n",
    "plt.show()"
   ]
  },
  {
   "cell_type": "code",
   "execution_count": 6,
   "id": "c5193ed2",
   "metadata": {},
   "outputs": [],
   "source": [
    "def liniaN(x1, y1, x2, y2):\n",
    "    data=np.zeros((100,100,3), dtype=np.uint8)\n",
    "    data.fill(255)\n",
    "    \n",
    "    if abs(x2-x1) > abs(y2-y1):\n",
    "        a = (y2-y1)/(x2-x1)\n",
    "\n",
    "        for x in range(min(x1,x2),max(x1,x2)):\n",
    "            y = y1 + a*(x-x1)\n",
    "            data[round(y), round(x)] = 0.0\n",
    "            \n",
    "    else:\n",
    "        a = (x2-x1)/(y2-y1)\n",
    "        \n",
    "        for y in range(min(y1,y2),max(y1,y2)):\n",
    "            x = x1 + a*(y-y1)\n",
    "            data[round(y), round(x)] = 0.0\n",
    "\n",
    "    #plt.imshow(data, interpolation='none', aspect=1)\n",
    "    #plt.show()\n",
    "    \n",
    "    #return data"
   ]
  },
  {
   "cell_type": "code",
   "execution_count": 7,
   "id": "823aae18",
   "metadata": {},
   "outputs": [
    {
     "name": "stdout",
     "output_type": "stream",
     "text": [
      "Czas liniaB:  3.4944343566894535e-05\n",
      "Czas liniaN:  4.356977939605713e-05\n"
     ]
    }
   ],
   "source": [
    "t = 0\n",
    "for i in range(10000):\n",
    "    t0 = time()\n",
    "    liniaB(10, 10, 70, 40)\n",
    "    t += time()-t0\n",
    "t = t/10000\n",
    "print(\"Czas liniaB: \",t)\n",
    "t = 0\n",
    "for i in range(10000):\n",
    "    t0 = time()\n",
    "    liniaN(10, 10, 70, 40)\n",
    "    t += time()-t0\n",
    "t = t/10000\n",
    "print(\"Czas liniaN: \",t)\n"
   ]
  },
  {
   "cell_type": "code",
   "execution_count": null,
   "id": "8e6f4537",
   "metadata": {},
   "outputs": [],
   "source": []
  },
  {
   "cell_type": "code",
   "execution_count": null,
   "id": "81b32525",
   "metadata": {},
   "outputs": [],
   "source": []
  }
 ],
 "metadata": {
  "kernelspec": {
   "display_name": "Python 3 (ipykernel)",
   "language": "python",
   "name": "python3"
  },
  "language_info": {
   "codemirror_mode": {
    "name": "ipython",
    "version": 3
   },
   "file_extension": ".py",
   "mimetype": "text/x-python",
   "name": "python",
   "nbconvert_exporter": "python",
   "pygments_lexer": "ipython3",
   "version": "3.9.5"
  }
 },
 "nbformat": 4,
 "nbformat_minor": 5
}
