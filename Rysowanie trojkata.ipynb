{
 "cells": [
  {
   "cell_type": "code",
   "execution_count": 4,
   "id": "9efca957",
   "metadata": {},
   "outputs": [],
   "source": [
    "import matplotlib.pyplot as plt\n",
    "import numpy as np\n",
    "import math"
   ]
  },
  {
   "cell_type": "code",
   "execution_count": 14,
   "id": "9ee95730",
   "metadata": {},
   "outputs": [],
   "source": [
    "def distanceBetweenPoints(x1, y1, x2, y2):\n",
    "    return math.sqrt((x2-x1)**2 + (y2-y1)**2)"
   ]
  },
  {
   "cell_type": "code",
   "execution_count": 15,
   "id": "ad377503",
   "metadata": {},
   "outputs": [],
   "source": [
    "def liniaB(x0, y0, xk, yk):\n",
    "    data=np.zeros((200,200,3), dtype=np.uint8)\n",
    "    data.fill(255)\n",
    "    dx = xk-x0\n",
    "    dy = yk-y0\n",
    "    err = 0.0\n",
    "    if (abs(dx) > abs(dy)):\n",
    "        if(xk<x0):\n",
    "            x0, xk = xk, x0\n",
    "            y0, yk = yk, y0\n",
    "            dx = xk-x0\n",
    "            dy = yk-y0\n",
    "        y=y0\n",
    "        derr=abs(dy/dx)\n",
    "        a= np.sign(dy)\n",
    "        for x in range(x0, xk):\n",
    "            data[y, x] = 0.0\n",
    "            err += derr\n",
    "            if (err > 0.5):\n",
    "                y += a\n",
    "                err += -1  \n",
    "    else:\n",
    "        if(yk<y0):\n",
    "            y0, yk = yk, y0\n",
    "            x0, xk = xk, x0\n",
    "            dx = xk-x0\n",
    "            dy = yk-y0\n",
    "        x=x0\n",
    "        derr=abs(dy/dx)\n",
    "        a = np.sign(dx)\n",
    "        for y in range(y0, yk):\n",
    "            data[y, x] = 0.0\n",
    "            err += derr\n",
    "            if (err>0.5):\n",
    "                x += a\n",
    "                err += -1\n",
    "    \n",
    "    return data"
   ]
  },
  {
   "cell_type": "code",
   "execution_count": 16,
   "id": "d1df69cb",
   "metadata": {},
   "outputs": [],
   "source": [
    "def trojkatHeron(x1, y1, x2, y2, x3, y3, RGB, fill = 1):\n",
    "    data = np.zeros((200, 200, 3), dtype=np.uint8)\n",
    "    data.fill(255)\n",
    "    \n",
    "    ab = distanceBetweenPoints(x1, y1, x2, y2)\n",
    "    bc = distanceBetweenPoints(x2, y2, x3, y3)\n",
    "    ac = distanceBetweenPoints(x1, y1, x3, y3)\n",
    "    pMain = (ab + bc + ac)/2\n",
    "    FieldMain = math.sqrt(pMain*(pMain-ab)*(pMain-bc)*(pMain-ac))+1\n",
    "    \n",
    "    for i in range(min(x1, x2, x3), max(x1, x2, x3)):\n",
    "        for j in range(min(y1, y2, y3), max(y1, y2, y3)):\n",
    "\n",
    "            aq = distanceBetweenPoints(x1, y1, i, j)\n",
    "            bq = distanceBetweenPoints(x2, y2, i, j)\n",
    "            cq = distanceBetweenPoints(x3, y3, i, j)\n",
    "\n",
    "            pABQ = (ab + bq + aq)/2\n",
    "            pAQC = (ac + aq + cq)/2\n",
    "            pQBC = (cq + bq + bc)/2\n",
    "\n",
    "            FieldABQ = math.sqrt(pABQ*(pABQ-ab)*(pABQ-bq)*(pABQ-aq))\n",
    "            FieldAQC = math.sqrt(pAQC*(pAQC-ac)*(pAQC-aq)*(pAQC-cq))\n",
    "            FieldQBC = math.sqrt(pQBC*(pQBC-cq)*(pQBC-bq)*(pQBC-bc))\n",
    "\n",
    "            if FieldMain > (FieldABQ + FieldAQC + FieldQBC):\n",
    "                data[j, i] = RGB\n",
    "    \n",
    "    return data\n",
    "            "
   ]
  },
  {
   "cell_type": "code",
   "execution_count": 19,
   "id": "2177d20d",
   "metadata": {},
   "outputs": [
    {
     "data": {
      "image/png": "[encoded data removed]",
      "text/plain": [
       "<Figure size 432x288 with 1 Axes>"
      ]
     },
     "metadata": {
      "needs_background": "light"
     },
     "output_type": "display_data"
    }
   ],
   "source": [
    "data = trojkatHeron(10, 35, 100, 155, 50, 190, (0, 150, 150), 0)\n",
    "plt.imshow(data, interpolation='none', aspect=1)\n",
    "plt.show()"
   ]
  },
  {
   "cell_type": "code",
   "execution_count": 18,
   "id": "6de09c59",
   "metadata": {},
   "outputs": [
    {
     "data": {
      "image/png": "[encoded data removed]",
      "text/plain": [
       "<Figure size 432x288 with 1 Axes>"
      ]
     },
     "metadata": {
      "needs_background": "light"
     },
     "output_type": "display_data"
    }
   ],
   "source": [
    "data = trojkatHeron(10, 35, 100, 155, 50, 190, (150, 0, 150), 0)\n",
    "plt.imshow(data, interpolation='none', aspect=1)\n",
    "plt.show()"
   ]
  },
  {
   "cell_type": "code",
   "execution_count": 9,
   "id": "0ea113f4",
   "metadata": {},
   "outputs": [],
   "source": [
    "def fillR(x, y, RGB):\n",
    "    \n",
    "    frcolor = 0\n",
    "    bgcolor = 255\n",
    "    if x>0 and x<len(RGB[0]) and y>0 and y<len(RGB):\n",
    "        if RGB[y,x,0] == frcolor and RGB[y,x,1] == frcolor and RGB[y,x,2] == frcolor:\n",
    "            return 0\n",
    "        RGB[y,x] = frcolor\n",
    "        fillR(x+1, y, RGB)\n",
    "        fillR(x-1, y, RGB)\n",
    "        fillR(x, y+1, RGB)\n",
    "        fillR(x, y-1, RGB)"
   ]
  },
  {
   "cell_type": "code",
   "execution_count": 10,
   "id": "d737cd74",
   "metadata": {},
   "outputs": [],
   "source": [
    "def trojkatRekursja(x1, y1, x2, y2, x3, y3, RGB, fill = 1):\n",
    "    data = np.zeros((200, 200, 3), dtype=np.uint8)\n",
    "    data.fill(255)\n",
    "    \n",
    "    data = np.add(liniaB(x1, y1, x2, y2), liniaB(x2, y2, x3, y3))\n",
    "    return data"
   ]
  },
  {
   "cell_type": "code",
   "execution_count": 11,
   "id": "bc0f7889",
   "metadata": {},
   "outputs": [
    {
     "data": {
      "image/png": "[encoded data removed]",
      "text/plain": [
       "<Figure size 432x288 with 1 Axes>"
      ]
     },
     "metadata": {
      "needs_background": "light"
     },
     "output_type": "display_data"
    }
   ],
   "source": [
    "data = trojkatRekursja(10, 35, 50, 155, 120, 190, (150, 0, 150), 0)\n",
    "plt.imshow(data, interpolation='none', aspect=1)\n",
    "plt.show()"
   ]
  },
  {
   "cell_type": "code",
   "execution_count": null,
   "id": "3c958ac6",
   "metadata": {},
   "outputs": [],
   "source": []
  },
  {
   "cell_type": "code",
   "execution_count": null,
   "id": "d2691fc1",
   "metadata": {},
   "outputs": [],
   "source": []
  },
  {
   "cell_type": "code",
   "execution_count": null,
   "id": "d2a69e7c",
   "metadata": {},
   "outputs": [],
   "source": []
  },
  {
   "cell_type": "code",
   "execution_count": null,
   "id": "fe5846a6",
   "metadata": {},
   "outputs": [],
   "source": []
  },
  {
   "cell_type": "code",
   "execution_count": null,
   "id": "57d455c0",
   "metadata": {},
   "outputs": [],
   "source": []
  },
  {
   "cell_type": "code",
   "execution_count": null,
   "id": "39eeab03",
   "metadata": {},
   "outputs": [],
   "source": []
  },
  {
   "cell_type": "code",
   "execution_count": null,
   "id": "055d881b",
   "metadata": {},
   "outputs": [],
   "source": []
  },
  {
   "cell_type": "code",
   "execution_count": null,
   "id": "15491b10",
   "metadata": {},
   "outputs": [],
   "source": []
  }
 ],
 "metadata": {
  "kernelspec": {
   "display_name": "Python 3 (ipykernel)",
   "language": "python",
   "name": "python3"
  },
  "language_info": {
   "codemirror_mode": {
    "name": "ipython",
    "version": 3
   },
   "file_extension": ".py",
   "mimetype": "text/x-python",
   "name": "python",
   "nbconvert_exporter": "python",
   "pygments_lexer": "ipython3",
   "version": "3.9.5"
  }
 },
 "nbformat": 4,
 "nbformat_minor": 5
}
