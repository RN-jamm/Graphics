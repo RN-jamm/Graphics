{
 "cells": [
  {
   "cell_type": "code",
   "execution_count": 94,
   "id": "fbe27a7f",
   "metadata": {},
   "outputs": [],
   "source": [
    "import numpy as np\n",
    "import matplotlib.pyplot as plt\n",
    "import math"
   ]
  },
  {
   "cell_type": "code",
   "execution_count": 95,
   "id": "71619b46",
   "metadata": {},
   "outputs": [],
   "source": [
    "def linePZnaive(P1, P2, d, RGB):\n",
    "    A = (P2[1]-P1[1])/(P2[0]-P1[0])\n",
    "    B = -1\n",
    "    C = P2[1] - A*P2[0]\n",
    "        \n",
    "    for x in range(min(P1[0], P2[0]), max(P1[0], P2[0])):\n",
    "        for y in range(min(P1[1], P2[1]), max(P1[1], P2[1])):\n",
    "            dl = abs(A*x + B*y + C)/math.sqrt(A*A + B*B)\n",
    "            if abs(dl) < d:\n",
    "                data[x,y] = 0.0\n",
    "    \n",
    "    return data"
   ]
  },
  {
   "cell_type": "code",
   "execution_count": 96,
   "id": "bfac56f8",
   "metadata": {},
   "outputs": [
    {
     "data": {
      "image/png": "[encoded data removed]",
      "text/plain": [
       "<Figure size 432x288 with 1 Axes>"
      ]
     },
     "metadata": {
      "needs_background": "light"
     },
     "output_type": "display_data"
    }
   ],
   "source": [
    "data=np.zeros((100,100,3), dtype=np.uint8)\n",
    "data.fill(255)\n",
    "RGB = linePZnaive((20, 30), (90, 80), 2, data)\n",
    "\n",
    "plt.imshow(RGB, interpolation='none', aspect=1)\n",
    "plt.show()"
   ]
  },
  {
   "cell_type": "code",
   "execution_count": 97,
   "id": "54bd4697",
   "metadata": {},
   "outputs": [],
   "source": [
    "def linePZbre(P1, P2, d, RGB):\n",
    "    if d < 1:\n",
    "        raise ValueError('thickness must be bigger or equal to 1')\n",
    "    x0, y0 = P1\n",
    "    xk, yk = P2\n",
    "    \n",
    "    dx = xk-x0\n",
    "    dy = yk-y0\n",
    "    err = 0.0\n",
    "    if (abs(dx) > abs(dy)):\n",
    "        if(xk<x0):\n",
    "            x0, xk = xk, x0\n",
    "            y0, yk = yk, y0\n",
    "            dx = xk-x0\n",
    "            dy = yk-y0\n",
    "        y=y0\n",
    "        derr=abs(dy/dx)\n",
    "        a= np.sign(dy)\n",
    "        for x in range(x0, xk):\n",
    "            RGB[y, x] = 0.0\n",
    "            err += derr\n",
    "            if (err > 0.5):\n",
    "                y += a\n",
    "                err += -1 \n",
    "                \n",
    "                for i in range(-d//2, d//2):\n",
    "                    for j in range(-d//2, d//2):\n",
    "                        RGB[y+j][x+i] = [0,0,0]\n",
    "    else:\n",
    "        if(yk<y0):\n",
    "            y0, yk = yk, y0\n",
    "            x0, xk = xk, x0\n",
    "            dx = xk-x0\n",
    "            dy = yk-y0\n",
    "        x=x0\n",
    "        derr=abs(dy/dx)\n",
    "        a = np.sign(dx)\n",
    "        for y in range(y0, yk):\n",
    "            RGB[y, x] = 0.0\n",
    "            err += derr\n",
    "            if (err>0.5):\n",
    "                x += a\n",
    "                err += -1\n",
    "                \n",
    "                for i in range(-d//2, d//2):\n",
    "                    for j in range(-d//2, d//2):\n",
    "                        RGB[y+j][x+i] = [0,0,0]\n",
    "    return RGB"
   ]
  },
  {
   "cell_type": "code",
   "execution_count": 98,
   "id": "59126d8d",
   "metadata": {},
   "outputs": [
    {
     "data": {
      "image/png": "[encoded data removed]",
      "text/plain": [
       "<Figure size 432x288 with 1 Axes>"
      ]
     },
     "metadata": {
      "needs_background": "light"
     },
     "output_type": "display_data"
    }
   ],
   "source": [
    "# tworzenie tablicy RGB o wymiarach 255x255\n",
    "RGB = np.zeros((255, 255, 3), dtype=np.uint8)\n",
    "RGB.fill(255)\n",
    "\n",
    "# rysowanie odcinka o grubości d=10 pomiędzy punktami (-20, 160) i (100, 190)\n",
    "RGB = linePZbre((-20, 160), (100, 190), 10, RGB)\n",
    "\n",
    "# wyświetlenie tablicy RGB\n",
    "\n",
    "plt.imshow(RGB, interpolation='none', aspect=1)\n",
    "plt.show()\n"
   ]
  },
  {
   "cell_type": "code",
   "execution_count": 99,
   "id": "3e06117b",
   "metadata": {},
   "outputs": [
    {
     "data": {
      "image/png": "[encoded data removed]",
      "text/plain": [
       "<Figure size 432x288 with 1 Axes>"
      ]
     },
     "metadata": {
      "needs_background": "light"
     },
     "output_type": "display_data"
    }
   ],
   "source": [
    "# tworzenie tablicy RGB o wymiarach 255x255\n",
    "RGB = np.zeros((255, 255, 3), dtype=np.uint8)\n",
    "RGB.fill(255)\n",
    "\n",
    "# rysowanie odcinka o grubości d=3 pomiędzy punktami (40, 40) i (20, -20)\n",
    "RGB = linePZbre((40, 40), (20, -20), 3, RGB)\n",
    "\n",
    "# wyświetlenie tablicy RGB\n",
    "\n",
    "plt.imshow(RGB, interpolation='none', aspect=1)\n",
    "plt.show()\n"
   ]
  },
  {
   "cell_type": "code",
   "execution_count": null,
   "id": "59d97d31",
   "metadata": {},
   "outputs": [],
   "source": []
  }
 ],
 "metadata": {
  "kernelspec": {
   "display_name": "Python 3 (ipykernel)",
   "language": "python",
   "name": "python3"
  },
  "language_info": {
   "codemirror_mode": {
    "name": "ipython",
    "version": 3
   },
   "file_extension": ".py",
   "mimetype": "text/x-python",
   "name": "python",
   "nbconvert_exporter": "python",
   "pygments_lexer": "ipython3",
   "version": "3.9.5"
  }
 },
 "nbformat": 4,
 "nbformat_minor": 5
}
