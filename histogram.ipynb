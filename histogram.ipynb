{
 "cells": [
  {
   "cell_type": "code",
   "execution_count": 41,
   "id": "f75550e2",
   "metadata": {},
   "outputs": [],
   "source": [
    "from IPython.display import display\n",
    "from PIL import Image\n",
    "import numpy as np\n",
    "import matplotlib.pyplot as plt\n",
    "from copy import copy\n"
   ]
  },
  {
   "cell_type": "code",
   "execution_count": 42,
   "id": "8df8da03",
   "metadata": {},
   "outputs": [],
   "source": [
    "def gammaK(data, gamma):\n",
    "    data2 = copy(data)\n",
    "    for i in range(len(data2)):\n",
    "        for j in range(len(data2[i])):\n",
    "            for z in range(3):\n",
    "                pomoc=data[i][j][z]\n",
    "                data2[i][j][z]=255*(pomoc/255.)**(1/gamma)\n",
    "    return data2"
   ]
  },
  {
   "cell_type": "code",
   "execution_count": 64,
   "id": "f6e4024a",
   "metadata": {},
   "outputs": [],
   "source": [
    "def histogramRGBz2(filePath):\n",
    "    img = None\n",
    "    if isinstance(filePath, str):\n",
    "        img = Image.open(filePath)\n",
    "    if isinstance(filePath, Image.Image):\n",
    "        img = filePath\n",
    "    RGB = np.array(img)\n",
    "    #print(RGB)\n",
    "    R = np.zeros(256)\n",
    "    G = np.zeros(256)\n",
    "    B = np.zeros(256)\n",
    "    \n",
    "    for i in RGB:\n",
    "        for j in i:\n",
    "            R[j[0]]+=1\n",
    "            G[j[1]]+=1\n",
    "            B[j[2]]+=1\n",
    "    \n",
    "    return (R, G, B)\n"
   ]
  },
  {
   "cell_type": "code",
   "execution_count": 65,
   "id": "556e2ebe",
   "metadata": {},
   "outputs": [
    {
     "data": {
      "image/png": "[encoded data removed]",
      "text/plain": [
       "<Figure size 432x288 with 1 Axes>"
      ]
     },
     "metadata": {
      "needs_background": "light"
     },
     "output_type": "display_data"
    }
   ],
   "source": [
    "path = \"./Koloseum.png\"\n",
    "R, G, B = histogramRGBz2(path)\n",
    "\n",
    "plt.bar(range(len(R)), R, width=1, color='red')\n",
    "plt.bar(range(len(G)), G, width=1, color='green')\n",
    "plt.bar(range(len(B)), B, width=1, color='blue')\n",
    "plt.show()"
   ]
  },
  {
   "cell_type": "code",
   "execution_count": 66,
   "id": "e336bbe2",
   "metadata": {},
   "outputs": [
    {
     "data": {
      "image/png": "[encoded data removed]",
      "text/plain": [
       "<Figure size 432x288 with 1 Axes>"
      ]
     },
     "metadata": {
      "needs_background": "light"
     },
     "output_type": "display_data"
    }
   ],
   "source": [
    "path = \"./Koloseum.png\"\n",
    "img = Image.open(path)\n",
    "data = np.array(img)\n",
    "data = gammaK(data, 0.5)\n",
    "img2 = Image.fromarray(data, 'RGB')\n",
    "R, G, B = histogramRGBz2(img2)\n",
    "\n",
    "plt.bar(range(len(R)), R, width=1, color='red')\n",
    "plt.bar(range(len(G)), G, width=1, color='green')\n",
    "plt.bar(range(len(B)), B, width=1, color='blue')\n",
    "plt.show()"
   ]
  },
  {
   "cell_type": "code",
   "execution_count": 71,
   "id": "89e96553",
   "metadata": {},
   "outputs": [
    {
     "data": {
      "image/png": "[encoded data removed]",
      "text/plain": [
       "<Figure size 432x288 with 1 Axes>"
      ]
     },
     "metadata": {
      "needs_background": "light"
     },
     "output_type": "display_data"
    }
   ],
   "source": [
    "path = \"./Koloseum.png\"\n",
    "img = Image.open(path)\n",
    "data = np.array(img)\n",
    "data = gammaK(data, 2)\n",
    "img2 = Image.fromarray(data, 'RGB')\n",
    "R, G, B = histogramRGBz2(img2)\n",
    "\n",
    "plt.bar(range(len(R)), R, width=1, color='red')\n",
    "plt.bar(range(len(G)), G, width=1, color='green')\n",
    "plt.bar(range(len(B)), B, width=1, color='blue')\n",
    "plt.show()\n",
    "\n",
    "\n",
    "image = Image.fromarray(np.array([R,G,B]), 'RGB')\n",
    "image.save(\"NewImage.png\")"
   ]
  },
  {
   "cell_type": "code",
   "execution_count": 69,
   "id": "5f5f1eb6",
   "metadata": {},
   "outputs": [],
   "source": [
    "# path = \"./Koloseum.png\"\n",
    "# img = Image.open(path)\n",
    "# datas = [gammaK(np.array(img), 0.5), gammaK(np.array(img), 2)]\n",
    "# RGBs = [histogramRGBz2(path)]\n",
    "\n",
    "# for i in datas:\n",
    "#     RGBs.append(histogramRGBz2(i))\n",
    "    \n",
    "# for rgb in RGBs:\n",
    "#     plt.bar(range(len(rgb[0])), rgb[0], width=1, color='red')\n",
    "#     plt.bar(range(len(rgb[1])), rgb[1], width=1, color='green')\n",
    "#     plt.bar(range(len(rgb[2])), rgb[2], width=1, color='blue')\n",
    "#     plt.show()"
   ]
  },
  {
   "cell_type": "code",
   "execution_count": null,
   "id": "19163aa4",
   "metadata": {},
   "outputs": [],
   "source": []
  }
 ],
 "metadata": {
  "kernelspec": {
   "display_name": "Python 3 (ipykernel)",
   "language": "python",
   "name": "python3"
  },
  "language_info": {
   "codemirror_mode": {
    "name": "ipython",
    "version": 3
   },
   "file_extension": ".py",
   "mimetype": "text/x-python",
   "name": "python",
   "nbconvert_exporter": "python",
   "pygments_lexer": "ipython3",
   "version": "3.9.5"
  }
 },
 "nbformat": 4,
 "nbformat_minor": 5
}
