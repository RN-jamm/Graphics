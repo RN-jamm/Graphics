{
 "cells": [
  {
   "cell_type": "code",
   "execution_count": 129,
   "id": "aa9d4aa0",
   "metadata": {},
   "outputs": [],
   "source": [
    "import numpy as np\n",
    "import matplotlib.pyplot as plt\n",
    "import math"
   ]
  },
  {
   "cell_type": "code",
   "execution_count": 130,
   "id": "cd4f7d2e",
   "metadata": {},
   "outputs": [],
   "source": [
    "def distanceBetweenPoints(x1, y1, x2, y2):\n",
    "    return math.sqrt((x2-x1)**2 + (y2-y1)**2)"
   ]
  },
  {
   "cell_type": "code",
   "execution_count": 141,
   "id": "d30bc843",
   "metadata": {},
   "outputs": [],
   "source": [
    "def trojkatHeron(P1, P2, P3, data, fill = 1):\n",
    "    x1, y1 = P1\n",
    "    x2, y2 = P2\n",
    "    x3, y3 = P3\n",
    "    \n",
    "    ab = distanceBetweenPoints(x1, y1, x2, y2)\n",
    "    bc = distanceBetweenPoints(x2, y2, x3, y3)\n",
    "    ac = distanceBetweenPoints(x1, y1, x3, y3)\n",
    "    pMain = (ab + bc + ac)/2\n",
    "    FieldMain = math.sqrt(pMain*(pMain-ab)*(pMain-bc)*(pMain-ac))+1\n",
    "    \n",
    "    for i in range(min(x1, x2, x3), max(x1, x2, x3)):\n",
    "        for j in range(min(y1, y2, y3), max(y1, y2, y3)):\n",
    "\n",
    "            aq = distanceBetweenPoints(x1, y1, i, j)\n",
    "            bq = distanceBetweenPoints(x2, y2, i, j)\n",
    "            cq = distanceBetweenPoints(x3, y3, i, j)\n",
    "\n",
    "            pABQ = (ab + bq + aq)/2\n",
    "            pAQC = (ac + aq + cq)/2\n",
    "            pQBC = (cq + bq + bc)/2\n",
    "            \n",
    "            FieldABQ = 0\n",
    "            FieldAQC = 0\n",
    "            FieldQBC = 0\n",
    "            if (pABQ*(pABQ-ab)*(pABQ-bq)*(pABQ-aq) > 0 \n",
    "                and pAQC*(pAQC-ac)*(pAQC-aq)*(pAQC-cq) > 0\n",
    "                and pQBC*(pQBC-cq)*(pQBC-bq)*(pQBC-bc) > 0):\n",
    "                FieldABQ = math.sqrt(pABQ*(pABQ-ab)*(pABQ-bq)*(pABQ-aq))\n",
    "                FieldAQC = math.sqrt(pAQC*(pAQC-ac)*(pAQC-aq)*(pAQC-cq))\n",
    "                FieldQBC = math.sqrt(pQBC*(pQBC-cq)*(pQBC-bq)*(pQBC-bc))\n",
    "\n",
    "            if FieldMain > (FieldABQ + FieldAQC + FieldQBC):\n",
    "                data[j, i] = 0\n",
    "    \n",
    "    return data\n",
    "            "
   ]
  },
  {
   "cell_type": "code",
   "execution_count": 142,
   "id": "9057a1be",
   "metadata": {},
   "outputs": [],
   "source": [
    "def createTriangles(*args):\n",
    "    points = list(args)\n",
    "    triangles = []\n",
    "    for Pi in points:\n",
    "        redFlag = False\n",
    "        for i in triangles:\n",
    "            if Pi in i:\n",
    "                redFlag = True\n",
    "        if (not redFlag):\n",
    "            distances = []\n",
    "            for Pj in points:\n",
    "                if Pj != Pi:\n",
    "                    d = math.sqrt( (Pi[1]-Pj[1])**2 + (Pi[0]-Pj[0])**2 )\n",
    "                    distances.append((Pj, d))\n",
    "            m = distances[0]\n",
    "            for i in distances[1:]:\n",
    "                if i[1] > m[1]:\n",
    "                    m = i\n",
    "            distances.remove(m)\n",
    "            triangles.append([Pi] + [tpl[0] for tpl in distances])\n",
    "        \n",
    "    return triangles"
   ]
  },
  {
   "cell_type": "code",
   "execution_count": 157,
   "id": "c950794f",
   "metadata": {},
   "outputs": [],
   "source": [
    "def quadrilateral(m, n, P1, P2, P3, P4, fill=0):\n",
    "    data = np.zeros((m, n, 3), dtype=np.uint8)\n",
    "    data.fill(255)\n",
    "    \n",
    "    triangles = createTriangles(P1, P2, P3, P4)\n",
    "    for triangle in triangles:\n",
    "        P1 = triangle[0]\n",
    "        P2 = triangle[1]\n",
    "        P3 = triangle[2]\n",
    "            \n",
    "        data = trojkatHeron(P1, P2, P3, data, fill)\n",
    "        \n",
    "    return data"
   ]
  },
  {
   "cell_type": "code",
   "execution_count": 158,
   "id": "b1c7c0ef",
   "metadata": {},
   "outputs": [
    {
     "data": {
      "image/png": "[encoded data removed]",
      "text/plain": [
       "<Figure size 432x288 with 1 Axes>"
      ]
     },
     "metadata": {
      "needs_background": "light"
     },
     "output_type": "display_data"
    }
   ],
   "source": [
    "data = quadrilateral(255, 255, (10, 20), (5, 100), (120, 60), (190, 200))\n",
    "\n",
    "plt.imshow(data, interpolation='none', aspect=1)\n",
    "plt.show()"
   ]
  },
  {
   "cell_type": "code",
   "execution_count": 159,
   "id": "03ae3ce2",
   "metadata": {},
   "outputs": [
    {
     "data": {
      "image/png": "[encoded data removed]",
      "text/plain": [
       "<Figure size 432x288 with 1 Axes>"
      ]
     },
     "metadata": {
      "needs_background": "light"
     },
     "output_type": "display_data"
    }
   ],
   "source": [
    "data = quadrilateral(255, 255, (10, 20), (5, 100), (120, 250), (190, 200))\n",
    "\n",
    "plt.imshow(data, interpolation='none', aspect=1)\n",
    "plt.show()"
   ]
  },
  {
   "cell_type": "code",
   "execution_count": 161,
   "id": "d82d9689",
   "metadata": {},
   "outputs": [
    {
     "data": {
      "image/png": "[encoded data removed]",
      "text/plain": [
       "<Figure size 432x288 with 1 Axes>"
      ]
     },
     "metadata": {
      "needs_background": "light"
     },
     "output_type": "display_data"
    }
   ],
   "source": [
    "data = quadrilateral(255, 255, (10, 20), (-60, 100), (120, 250), (190, 200))\n",
    "\n",
    "plt.imshow(data, interpolation='none', aspect=1)\n",
    "plt.show()"
   ]
  },
  {
   "cell_type": "code",
   "execution_count": null,
   "id": "964eec8b",
   "metadata": {},
   "outputs": [],
   "source": []
  },
  {
   "cell_type": "code",
   "execution_count": null,
   "id": "2b8f6516",
   "metadata": {},
   "outputs": [],
   "source": []
  }
 ],
 "metadata": {
  "kernelspec": {
   "display_name": "Python 3 (ipykernel)",
   "language": "python",
   "name": "python3"
  },
  "language_info": {
   "codemirror_mode": {
    "name": "ipython",
    "version": 3
   },
   "file_extension": ".py",
   "mimetype": "text/x-python",
   "name": "python",
   "nbconvert_exporter": "python",
   "pygments_lexer": "ipython3",
   "version": "3.9.5"
  }
 },
 "nbformat": 4,
 "nbformat_minor": 5
}
