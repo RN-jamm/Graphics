{
 "cells": [
  {
   "cell_type": "code",
   "execution_count": 1,
   "id": "71382d37",
   "metadata": {},
   "outputs": [],
   "source": [
    "import numpy as np\n",
    "import matplotlib.pyplot as plt\n",
    "import math"
   ]
  },
  {
   "cell_type": "code",
   "execution_count": 29,
   "id": "d535ff3d",
   "metadata": {},
   "outputs": [],
   "source": [
    "def elipse(n, m, O, a, b, fill = 1):\n",
    "    data = np.zeros((n, m, 3), dtype = np.uint8)\n",
    "    data.fill(255)\n",
    "    \n",
    "    x = 0\n",
    "    y = b\n",
    "    \n",
    "    d1 = ((b*b) - (a*a*b) + (0.25*a*a))\n",
    "    dx = 2*b*b*x\n",
    "    dy = 2*a*a*y\n",
    "\n",
    "    while(dx < dy):\n",
    "        if fill:\n",
    "            for i in range(O[0]-x, O[0]+x):\n",
    "                for j in range(O[1]-y, O[1]+y):\n",
    "                    if i >= 0 and i < n and j >= 0 and j < m:\n",
    "                        data[i, j] = (255, 0, 0)\n",
    "        else:\n",
    "            data[x+O[0], y+O[1]] = (255, 0, 0)\n",
    "            data[-x+O[0], y+O[1]] = (255, 0, 0)\n",
    "            data[x+O[0], -y+O[1]] = (255, 0, 0)\n",
    "            data[-x+O[0], -y+O[1]] = (255, 0, 0)\n",
    "        \n",
    "        if (d1 < 0):\n",
    "            x += 1\n",
    "            dx = dx + (2*b*b)\n",
    "            d1 = d1 + dx + (b*b)\n",
    "        else:\n",
    "            x += 1\n",
    "            y -= 1\n",
    "            dx = dx + (2*b*b)\n",
    "            dy = dy - (2*a*a)\n",
    "            d1 = d1 + dx - dy + (b*b)\n",
    "            \n",
    "    d2 = (((b*b) * ((x+0.5) * (x+0.5))) + ((a*a) * ((y-1)*(y-1))) - (a*a*b*b))\n",
    "    \n",
    "    while (y>=0):\n",
    "        if fill:\n",
    "            for i in range(O[0]-x, O[0]+x):\n",
    "                for j in range(O[1]-y, O[1]+y):\n",
    "                    if i >= 0 and i < n and j >= 0 and j < m:\n",
    "                        data[i, j] = (255, 0, 0)\n",
    "        else:\n",
    "            data[x+O[0], y+O[1]] = (255, 0, 0)\n",
    "            data[-x+O[0], y+O[1]] = (255, 0, 0)\n",
    "            data[x+O[0], -y+O[1]] = (255, 0, 0)\n",
    "            data[-x+O[0], -y+O[1]] = (255, 0, 0)\n",
    "        \n",
    "        if (d2>0):\n",
    "            y -= 1\n",
    "            dy = dy - (2*a*a)\n",
    "            d2 = d2 + (a*a) - dy\n",
    "        else:\n",
    "            y -= 1\n",
    "            x += 1\n",
    "            dx = dx + (2*b*b)\n",
    "            dy = dy - (2*a*a)\n",
    "            d2 = d2 + dx - dy + (a*a)\n",
    "            \n",
    "    return data"
   ]
  },
  {
   "cell_type": "code",
   "execution_count": 30,
   "id": "e99b6f1b",
   "metadata": {},
   "outputs": [
    {
     "data": {
      "image/png": "[encoded data removed]",
      "text/plain": [
       "<Figure size 432x288 with 1 Axes>"
      ]
     },
     "metadata": {
      "needs_background": "light"
     },
     "output_type": "display_data"
    }
   ],
   "source": [
    "data = elipse(255, 255, (125, 125), 76, 100)\n",
    "\n",
    "plt.imshow(data, interpolation='none', aspect=1)\n",
    "plt.show()"
   ]
  }
 ],
 "metadata": {
  "kernelspec": {
   "display_name": "Python 3 (ipykernel)",
   "language": "python",
   "name": "python3"
  },
  "language_info": {
   "codemirror_mode": {
    "name": "ipython",
    "version": 3
   },
   "file_extension": ".py",
   "mimetype": "text/x-python",
   "name": "python",
   "nbconvert_exporter": "python",
   "pygments_lexer": "ipython3",
   "version": "3.9.5"
  }
 },
 "nbformat": 4,
 "nbformat_minor": 5
}
