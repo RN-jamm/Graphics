{
 "cells": [
  {
   "cell_type": "code",
   "execution_count": 14,
   "id": "4f82e875",
   "metadata": {},
   "outputs": [],
   "source": [
    "import numpy as np\n",
    "import matplotlib.pyplot as plt\n",
    "import math"
   ]
  },
  {
   "cell_type": "code",
   "execution_count": 27,
   "id": "0f23743f",
   "metadata": {},
   "outputs": [],
   "source": [
    "def liniaAA(x0, y0, xk, yk):\n",
    "    data=np.zeros((100,100,3), dtype=np.uint8)\n",
    "    data.fill(255)\n",
    "    \n",
    "    A = (yk-y0)/(xk-x0)\n",
    "    B = -1\n",
    "    C = yk - A*xk\n",
    "    \n",
    "    for x in range(min(x0, xk), max(x0, xk)+1):\n",
    "        for y in range(min(y0, yk), max(y0, yk)+1):\n",
    "            dl = abs(A*x + B*y + C)/math.sqrt(A*A + B*B)\n",
    "            if abs(dl) <= 1:\n",
    "                colBG = (255, 255, 255)\n",
    "                colLine = (125, 125, 0)\n",
    "                colPix = []\n",
    "                for i in range(3):\n",
    "                    a = colLine[i]*(1-dl) + colBG[i]*dl\n",
    "                    colPix.append(a)\n",
    "                data[x,y] = tuple(colPix)\n",
    "    return data\n",
    "\n",
    "\n",
    "                \n",
    "                \n",
    "    "
   ]
  },
  {
   "cell_type": "code",
   "execution_count": 28,
   "id": "e3002a4f",
   "metadata": {},
   "outputs": [
    {
     "data": {
      "image/png": "[encoded data removed]",
      "text/plain": [
       "<Figure size 432x288 with 1 Axes>"
      ]
     },
     "metadata": {
      "needs_background": "light"
     },
     "output_type": "display_data"
    }
   ],
   "source": [
    "data = liniaAA(10, 70, 70, 40)\n",
    "plt.imshow(data, interpolation='none', aspect=1)\n",
    "plt.show()"
   ]
  },
  {
   "cell_type": "code",
   "execution_count": 148,
   "id": "8cdd8740",
   "metadata": {},
   "outputs": [],
   "source": [
    "def lineAcolor(x0, y0, xk, yk, liniaKolor, tloKolor):\n",
    "    data=np.zeros((100,100,3), dtype=np.uint8)\n",
    "    data[:] = tloKolor\n",
    "    \n",
    "    A = (yk-y0)/(xk-x0)\n",
    "    B = -1\n",
    "    C = yk - A*xk\n",
    "    \n",
    "    for x in range(min(x0, xk), max(x0, xk)+1):\n",
    "        for y in range(min(y0, yk), max(y0, yk)+1):\n",
    "            dl = abs(A*x + B*y + C)/math.sqrt(A*A + B*B)\n",
    "            if abs(dl) <= 1:\n",
    "                colPix = []\n",
    "                for i in range(len(tloKolor)):\n",
    "                    rgb = liniaKolor[i]*(1-dl) + tloKolor[i]*dl\n",
    "                    data[x,y,i] = rgb\n",
    "    return data"
   ]
  },
  {
   "cell_type": "code",
   "execution_count": 149,
   "id": "f87cc84f",
   "metadata": {},
   "outputs": [
    {
     "data": {
      "image/png": "[encoded data removed]",
      "text/plain": [
       "<Figure size 432x288 with 1 Axes>"
      ]
     },
     "metadata": {
      "needs_background": "light"
     },
     "output_type": "display_data"
    }
   ],
   "source": [
    "data = lineAcolor(10, 70, 70, 40, (125, 125, 0), (255, 235, 205))\n",
    "plt.imshow(data, interpolation='none', aspect=1)\n",
    "plt.show()"
   ]
  },
  {
   "cell_type": "code",
   "execution_count": 160,
   "id": "fb691818",
   "metadata": {},
   "outputs": [],
   "source": [
    "def lineAAbre(x0, y0, xk, yk, liniaKolor, tloKolor):\n",
    "    data=np.zeros((100,100,3), dtype=np.uint8)\n",
    "    data[:] = tloKolor\n",
    "    dx = xk-x0\n",
    "    dy = yk-y0\n",
    "    err = 0.0\n",
    "    if (abs(dx) > abs(dy)):\n",
    "        if(xk<x0):\n",
    "            x0, xk = xk, x0\n",
    "            y0, yk = yk, y0\n",
    "            dx = xk-x0\n",
    "            dy = yk-y0\n",
    "        A = (yk-y0)/(xk-x0)\n",
    "        B = -1\n",
    "        C = yk - A*xk\n",
    "        y=y0\n",
    "        derr=abs(dy/dx)\n",
    "        a= np.sign(dy)\n",
    "        for x in range(x0, xk):\n",
    "            dl = abs(A*x + B*y + C)/math.sqrt(A*A + B*B)\n",
    "            dl2 = abs(A*x + B*(y+1) + C)/math.sqrt(A*A + B*B)\n",
    "            for i in range(len(tloKolor)):\n",
    "                rgb = int(liniaKolor[i]*(1-dl) + tloKolor[i]*dl)\n",
    "                rgb2 = int(liniaKolor[i]*(1-dl2) + tloKolor[i]*dl2)\n",
    "                data[y,x,i] = rgb\n",
    "                data[(y+1),x,i] = rgb2\n",
    "            err += derr\n",
    "            if (err > 0.5):\n",
    "                y += a\n",
    "                err += -1\n",
    "    else:\n",
    "        if(yk<y0):\n",
    "            y0, yk = yk, y0\n",
    "            x0, xk = xk, x0\n",
    "            dx = xk-x0\n",
    "            dy = yk-y0\n",
    "        x=x0\n",
    "        A = (xk-x0)/(yk-y0)\n",
    "        B = -1\n",
    "        C = xk - A*yk\n",
    "        \n",
    "        derr=abs(dy/dx)\n",
    "        a = np.sign(dx)\n",
    "        for y in range(y0, yk):\n",
    "            dl = abs(A*y + B*x + C)/math.sqrt(A*A + B*B)\n",
    "            dl2 = abs(A*(x+1) + B*y + C)/math.sqrt(A*A + B*B)\n",
    "            for i in range(len(tloKolor)):\n",
    "                rgb = int(liniaKolor[i]*(1-dl) + tloKolor[i]*dl)\n",
    "                rgb2 = int(liniaKolor[i]*(1-dl2) + tloKolor[i]*dl2)\n",
    "                data[x,y,i] = rgb\n",
    "                data[(x+1),y,i] = rgb2\n",
    "            err += derr\n",
    "            if (err>0.5):\n",
    "                x += a\n",
    "                err += -1\n",
    "    return data"
   ]
  },
  {
   "cell_type": "code",
   "execution_count": 161,
   "id": "e832cd31",
   "metadata": {},
   "outputs": [
    {
     "data": {
      "image/png": "[encoded data removed]",
      "text/plain": [
       "<Figure size 432x288 with 1 Axes>"
      ]
     },
     "metadata": {
      "needs_background": "light"
     },
     "output_type": "display_data"
    }
   ],
   "source": [
    "data = lineAAbre(10, 70, 70, 40, (125, 125, 0), (255, 235, 205))\n",
    "plt.imshow(data, interpolation='none', aspect=1)\n",
    "plt.show()"
   ]
  },
  {
   "cell_type": "code",
   "execution_count": null,
   "id": "2c486de1",
   "metadata": {},
   "outputs": [],
   "source": []
  },
  {
   "cell_type": "code",
   "execution_count": null,
   "id": "fc5311a9",
   "metadata": {},
   "outputs": [],
   "source": []
  }
 ],
 "metadata": {
  "kernelspec": {
   "display_name": "Python 3 (ipykernel)",
   "language": "python",
   "name": "python3"
  },
  "language_info": {
   "codemirror_mode": {
    "name": "ipython",
    "version": 3
   },
   "file_extension": ".py",
   "mimetype": "text/x-python",
   "name": "python",
   "nbconvert_exporter": "python",
   "pygments_lexer": "ipython3",
   "version": "3.9.5"
  }
 },
 "nbformat": 4,
 "nbformat_minor": 5
}
